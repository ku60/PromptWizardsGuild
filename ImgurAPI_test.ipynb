{
 "cells": [
  {
   "cell_type": "code",
   "execution_count": 2,
   "id": "d20a19d5-db1f-49a2-be08-a234862b0911",
   "metadata": {},
   "outputs": [],
   "source": [
    "import requests\n",
    "import json"
   ]
  },
  {
   "cell_type": "code",
   "execution_count": 31,
   "id": "b016f210-2cd7-4a2a-b2e3-5ee2652303de",
   "metadata": {},
   "outputs": [],
   "source": [
    "client_id = \"3f34176738ba79b\"\n",
    "headers = {\n",
    "    \"authorization\": f\"Client-ID {client_id}\",\n",
    "}\n",
    "files = {\n",
    "    \"image\": requests.get(\"https://foolishmen.net/wp-content/uploads/2022/02/Foolishman1.png\").content,\n",
    "}\n",
    "response = requests.post('https://api.imgur.com/3/upload', headers=headers, files=files)"
   ]
  },
  {
   "cell_type": "code",
   "execution_count": 32,
   "id": "10127f36-dc5e-494a-a9c5-3715796789e8",
   "metadata": {},
   "outputs": [
    {
     "data": {
      "text/plain": [
       "<Response [200]>"
      ]
     },
     "execution_count": 32,
     "metadata": {},
     "output_type": "execute_result"
    }
   ],
   "source": [
    "response"
   ]
  },
  {
   "cell_type": "code",
   "execution_count": 6,
   "id": "2b2ef1e1-6ce7-49ce-9239-a7a21d7be224",
   "metadata": {},
   "outputs": [
    {
     "data": {
      "text/plain": [
       "requests.models.Response"
      ]
     },
     "execution_count": 6,
     "metadata": {},
     "output_type": "execute_result"
    }
   ],
   "source": [
    "type(response)"
   ]
  },
  {
   "cell_type": "code",
   "execution_count": 33,
   "id": "37a23b66-c263-4c50-a1e2-1c73d381ecd1",
   "metadata": {},
   "outputs": [
    {
     "data": {
      "text/plain": [
       "'{\"status\":200,\"success\":true,\"data\":{\"id\":\"DxAD1P2\",\"deletehash\":\"xUiXPtE4scEe7VU\",\"account_id\":null,\"account_url\":null,\"ad_type\":null,\"ad_url\":null,\"title\":null,\"description\":null,\"name\":\"\",\"type\":\"image/png\",\"width\":4096,\"height\":4096,\"size\":565810,\"views\":0,\"section\":null,\"vote\":null,\"bandwidth\":0,\"animated\":false,\"favorite\":false,\"in_gallery\":false,\"in_most_viral\":false,\"has_sound\":false,\"is_ad\":false,\"nsfw\":null,\"link\":\"https://i.imgur.com/DxAD1P2.png\",\"tags\":[],\"datetime\":1667401123,\"mp4\":\"\",\"hls\":\"\"}}\\n'"
      ]
     },
     "execution_count": 33,
     "metadata": {},
     "output_type": "execute_result"
    }
   ],
   "source": [
    "response.text"
   ]
  },
  {
   "cell_type": "code",
   "execution_count": 21,
   "id": "04c0bd22-c387-49a3-a1d0-7176127d8901",
   "metadata": {},
   "outputs": [],
   "source": [
    "true = True\n",
    "false = False\n",
    "null = None"
   ]
  },
  {
   "cell_type": "code",
   "execution_count": 34,
   "id": "2cebd225-49ed-4667-84d2-992de68977f5",
   "metadata": {},
   "outputs": [
    {
     "data": {
      "text/plain": [
       "{'status': 200,\n",
       " 'success': True,\n",
       " 'data': {'id': 'DxAD1P2',\n",
       "  'deletehash': 'xUiXPtE4scEe7VU',\n",
       "  'account_id': None,\n",
       "  'account_url': None,\n",
       "  'ad_type': None,\n",
       "  'ad_url': None,\n",
       "  'title': None,\n",
       "  'description': None,\n",
       "  'name': '',\n",
       "  'type': 'image/png',\n",
       "  'width': 4096,\n",
       "  'height': 4096,\n",
       "  'size': 565810,\n",
       "  'views': 0,\n",
       "  'section': None,\n",
       "  'vote': None,\n",
       "  'bandwidth': 0,\n",
       "  'animated': False,\n",
       "  'favorite': False,\n",
       "  'in_gallery': False,\n",
       "  'in_most_viral': False,\n",
       "  'has_sound': False,\n",
       "  'is_ad': False,\n",
       "  'nsfw': None,\n",
       "  'link': 'https://i.imgur.com/DxAD1P2.png',\n",
       "  'tags': [],\n",
       "  'datetime': 1667401123,\n",
       "  'mp4': '',\n",
       "  'hls': ''}}"
      ]
     },
     "execution_count": 34,
     "metadata": {},
     "output_type": "execute_result"
    }
   ],
   "source": [
    "test = eval(response.text.replace(\"\\n\",\"\").replace(\"true\",\"True\"))\n",
    "test"
   ]
  },
  {
   "cell_type": "code",
   "execution_count": 25,
   "id": "4988a794-0c1f-4b61-bd0e-3eab93ea76ef",
   "metadata": {},
   "outputs": [],
   "source": [
    "img = open(\"mysite/media/a goldfish piloting a spaceship in outer space, intricate detail, epic composition, cosmic, futuristic 4 k,.png\")"
   ]
  },
  {
   "cell_type": "code",
   "execution_count": 27,
   "id": "14ea6b39-e029-4fef-af7c-bca59306cd4d",
   "metadata": {},
   "outputs": [
    {
     "data": {
      "text/plain": [
       "_io.TextIOWrapper"
      ]
     },
     "execution_count": 27,
     "metadata": {},
     "output_type": "execute_result"
    }
   ],
   "source": [
    "type(img)"
   ]
  },
  {
   "cell_type": "code",
   "execution_count": 28,
   "id": "fb4ea2e0-ffb1-41ee-bd72-e8ad6dea991c",
   "metadata": {},
   "outputs": [
    {
     "data": {
      "text/plain": [
       "<_io.TextIOWrapper name='mysite/media/a goldfish piloting a spaceship in outer space, intricate detail, epic composition, cosmic, futuristic 4 k,.png' mode='r' encoding='UTF-8'>"
      ]
     },
     "execution_count": 28,
     "metadata": {},
     "output_type": "execute_result"
    }
   ],
   "source": [
    "img"
   ]
  },
  {
   "cell_type": "code",
   "execution_count": null,
   "id": "30af5c5e-442e-4c4e-90c1-c3a2e23d5d2b",
   "metadata": {},
   "outputs": [],
   "source": []
  }
 ],
 "metadata": {
  "kernelspec": {
   "display_name": "Python 3",
   "language": "python",
   "name": "python3"
  },
  "language_info": {
   "codemirror_mode": {
    "name": "ipython",
    "version": 3
   },
   "file_extension": ".py",
   "mimetype": "text/x-python",
   "name": "python",
   "nbconvert_exporter": "python",
   "pygments_lexer": "ipython3",
   "version": "3.7.6"
  }
 },
 "nbformat": 4,
 "nbformat_minor": 5
}
